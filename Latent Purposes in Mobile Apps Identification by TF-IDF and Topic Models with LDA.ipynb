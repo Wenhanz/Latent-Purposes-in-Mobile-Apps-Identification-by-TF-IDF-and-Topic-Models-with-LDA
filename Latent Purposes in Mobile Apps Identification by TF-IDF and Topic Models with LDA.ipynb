{
 "cells": [
  {
   "cell_type": "markdown",
   "metadata": {},
   "source": [
    "##  Latent Purposes in Mobile Apps\n",
    "\n",
    "\n",
    "Think of Android applications as \"documents\", where \"words\" are the \"permissions\" that each app requests. Each app has a set of latent \"purposes\" (topics); a \"purpose\" may be a specific task (such as taking photographs and uploading them to the internet), and an application may have a mixture of purposes of varying strength.\n",
    "\n",
    "Can we uncover these purposes from a dataset of Android applications and the permissions they request?"
   ]
  },
  {
   "cell_type": "code",
   "execution_count": 1,
   "metadata": {
    "ExecuteTime": {
     "end_time": "2019-03-26T17:08:15.972284Z",
     "start_time": "2019-03-26T17:08:14.381357Z"
    }
   },
   "outputs": [],
   "source": [
    "import numpy as np\n",
    "import matplotlib.pyplot as plt\n",
    "import pandas as pd\n",
    "%matplotlib inline"
   ]
  },
  {
   "cell_type": "markdown",
   "metadata": {},
   "source": [
    "### Part A: Load the data"
   ]
  },
  {
   "cell_type": "markdown",
   "metadata": {},
   "source": [
    "The [dataset](http://www.mariofrank.net/andrApps/) contains ~180,000 applications from the Android app store, including each app's name, description and permissions requested. For more about Android app permissions, see [this report](http://www.pewinternet.org/2015/11/10/an-analysis-of-android-app-permissions/).\n",
    "\n",
    "   * Download the data and unzip it into the same folder as this notebook.\n",
    "   * Rename the CSV file to \"android.csv\".\n",
    "   * Run the cells below to load the data into the notebook.\n",
    "\n",
    "This may take up ~2GB of RAM."
   ]
  },
  {
   "cell_type": "code",
   "execution_count": 4,
   "metadata": {
    "ExecuteTime": {
     "end_time": "2019-03-26T17:50:47.649702Z",
     "start_time": "2019-03-26T17:49:57.901352Z"
    }
   },
   "outputs": [],
   "source": [
    "df = pd.read_csv(\"android.csv\", sep=\",\",  thousands=\",\")"
   ]
  },
  {
   "cell_type": "code",
   "execution_count": 6,
   "metadata": {
    "ExecuteTime": {
     "end_time": "2019-03-26T17:51:20.263428Z",
     "start_time": "2019-03-26T17:51:15.424332Z"
    }
   },
   "outputs": [],
   "source": [
    "df[\"Number of ratings\"] = df[\"Number of ratings\"].astype(int) # fix data type\n",
    "df = df.drop_duplicates(subset=[\"App\"]).reset_index(drop=True)"
   ]
  },
  {
   "cell_type": "code",
   "execution_count": 7,
   "metadata": {
    "ExecuteTime": {
     "end_time": "2019-03-26T17:51:20.306232Z",
     "start_time": "2019-03-26T17:51:20.267632Z"
    }
   },
   "outputs": [
    {
     "data": {
      "text/html": [
       "<div>\n",
       "<style scoped>\n",
       "    .dataframe tbody tr th:only-of-type {\n",
       "        vertical-align: middle;\n",
       "    }\n",
       "\n",
       "    .dataframe tbody tr th {\n",
       "        vertical-align: top;\n",
       "    }\n",
       "\n",
       "    .dataframe thead th {\n",
       "        text-align: right;\n",
       "    }\n",
       "</style>\n",
       "<table border=\"1\" class=\"dataframe\">\n",
       "  <thead>\n",
       "    <tr style=\"text-align: right;\">\n",
       "      <th></th>\n",
       "      <th>App</th>\n",
       "      <th>Package</th>\n",
       "      <th>Category</th>\n",
       "      <th>Description</th>\n",
       "      <th>Rating</th>\n",
       "      <th>Number of ratings</th>\n",
       "      <th>Price</th>\n",
       "      <th>Related apps</th>\n",
       "      <th>Dangerous permissions count</th>\n",
       "      <th>Safe permissions count</th>\n",
       "      <th>...</th>\n",
       "      <th>Your personal information : read Browser's history and bookmarks (D)</th>\n",
       "      <th>Your personal information : read calendar events (D)</th>\n",
       "      <th>Your personal information : read contact data (D)</th>\n",
       "      <th>Your personal information : read sensitive log data (D)</th>\n",
       "      <th>Your personal information : read user defined dictionary (D)</th>\n",
       "      <th>Your personal information : retrieve system internal state (S)</th>\n",
       "      <th>Your personal information : set alarm in alarm clock (S)</th>\n",
       "      <th>Your personal information : write Browser's history and bookmarks (D)</th>\n",
       "      <th>Your personal information : write contact data (D)</th>\n",
       "      <th>Your personal information : write to user defined dictionary (S)</th>\n",
       "    </tr>\n",
       "  </thead>\n",
       "  <tbody>\n",
       "    <tr>\n",
       "      <th>0</th>\n",
       "      <td>Google Maps</td>\n",
       "      <td>com.google.android.apps.maps</td>\n",
       "      <td>Travel &amp; Local</td>\n",
       "      <td>Download the latest release of Google Maps, an...</td>\n",
       "      <td>4.4</td>\n",
       "      <td>1438259</td>\n",
       "      <td>$0.00</td>\n",
       "      <td>{com.jsdfproductions.ctatrackerpro, com.alk.co...</td>\n",
       "      <td>17.0</td>\n",
       "      <td>8</td>\n",
       "      <td>...</td>\n",
       "      <td>0</td>\n",
       "      <td>0</td>\n",
       "      <td>1</td>\n",
       "      <td>0</td>\n",
       "      <td>0</td>\n",
       "      <td>0</td>\n",
       "      <td>0</td>\n",
       "      <td>0</td>\n",
       "      <td>1</td>\n",
       "      <td>0</td>\n",
       "    </tr>\n",
       "    <tr>\n",
       "      <th>1</th>\n",
       "      <td>Snowfall Live Wallpaper</td>\n",
       "      <td>fishnoodle.snowfall_free</td>\n",
       "      <td>Personalization</td>\n",
       "      <td>Snowfall Live Wallpaper: Wintertime on your ho...</td>\n",
       "      <td>4.3</td>\n",
       "      <td>18147</td>\n",
       "      <td>$0.00</td>\n",
       "      <td>{colfore.wallpaper.snowfree, com.tabsoft.wallp...</td>\n",
       "      <td>0.0</td>\n",
       "      <td>0</td>\n",
       "      <td>...</td>\n",
       "      <td>0</td>\n",
       "      <td>0</td>\n",
       "      <td>0</td>\n",
       "      <td>0</td>\n",
       "      <td>0</td>\n",
       "      <td>0</td>\n",
       "      <td>0</td>\n",
       "      <td>0</td>\n",
       "      <td>0</td>\n",
       "      <td>0</td>\n",
       "    </tr>\n",
       "    <tr>\n",
       "      <th>2</th>\n",
       "      <td>Aquarium Live Wallpaper</td>\n",
       "      <td>fishnoodle.aquarium_free</td>\n",
       "      <td>Personalization</td>\n",
       "      <td>A beautiful tropical fish tank live wallpaper!...</td>\n",
       "      <td>4.1</td>\n",
       "      <td>62145</td>\n",
       "      <td>$0.00</td>\n",
       "      <td>{com.convisual.lwp.fishometerlite, com.accessl...</td>\n",
       "      <td>0.0</td>\n",
       "      <td>0</td>\n",
       "      <td>...</td>\n",
       "      <td>0</td>\n",
       "      <td>0</td>\n",
       "      <td>0</td>\n",
       "      <td>0</td>\n",
       "      <td>0</td>\n",
       "      <td>0</td>\n",
       "      <td>0</td>\n",
       "      <td>0</td>\n",
       "      <td>0</td>\n",
       "      <td>0</td>\n",
       "    </tr>\n",
       "  </tbody>\n",
       "</table>\n",
       "<p>3 rows × 183 columns</p>\n",
       "</div>"
      ],
      "text/plain": [
       "                       App                       Package         Category  \\\n",
       "0              Google Maps  com.google.android.apps.maps   Travel & Local   \n",
       "1  Snowfall Live Wallpaper      fishnoodle.snowfall_free  Personalization   \n",
       "2  Aquarium Live Wallpaper      fishnoodle.aquarium_free  Personalization   \n",
       "\n",
       "                                         Description  Rating  \\\n",
       "0  Download the latest release of Google Maps, an...     4.4   \n",
       "1  Snowfall Live Wallpaper: Wintertime on your ho...     4.3   \n",
       "2  A beautiful tropical fish tank live wallpaper!...     4.1   \n",
       "\n",
       "   Number of ratings  Price  \\\n",
       "0            1438259  $0.00   \n",
       "1              18147  $0.00   \n",
       "2              62145  $0.00   \n",
       "\n",
       "                                        Related apps  \\\n",
       "0  {com.jsdfproductions.ctatrackerpro, com.alk.co...   \n",
       "1  {colfore.wallpaper.snowfree, com.tabsoft.wallp...   \n",
       "2  {com.convisual.lwp.fishometerlite, com.accessl...   \n",
       "\n",
       "   Dangerous permissions count  Safe permissions count  ...  \\\n",
       "0                         17.0                       8  ...   \n",
       "1                          0.0                       0  ...   \n",
       "2                          0.0                       0  ...   \n",
       "\n",
       "   Your personal information : read Browser's history and bookmarks (D)  \\\n",
       "0                                                  0                      \n",
       "1                                                  0                      \n",
       "2                                                  0                      \n",
       "\n",
       "   Your personal information : read calendar events (D)  \\\n",
       "0                                                  0      \n",
       "1                                                  0      \n",
       "2                                                  0      \n",
       "\n",
       "   Your personal information : read contact data (D)  \\\n",
       "0                                                  1   \n",
       "1                                                  0   \n",
       "2                                                  0   \n",
       "\n",
       "   Your personal information : read sensitive log data (D)  \\\n",
       "0                                                  0         \n",
       "1                                                  0         \n",
       "2                                                  0         \n",
       "\n",
       "   Your personal information : read user defined dictionary (D)  \\\n",
       "0                                                  0              \n",
       "1                                                  0              \n",
       "2                                                  0              \n",
       "\n",
       "   Your personal information : retrieve system internal state (S)  \\\n",
       "0                                                  0                \n",
       "1                                                  0                \n",
       "2                                                  0                \n",
       "\n",
       "   Your personal information : set alarm in alarm clock (S)  \\\n",
       "0                                                  0          \n",
       "1                                                  0          \n",
       "2                                                  0          \n",
       "\n",
       "   Your personal information : write Browser's history and bookmarks (D)  \\\n",
       "0                                                  0                       \n",
       "1                                                  0                       \n",
       "2                                                  0                       \n",
       "\n",
       "   Your personal information : write contact data (D)  \\\n",
       "0                                                  1    \n",
       "1                                                  0    \n",
       "2                                                  0    \n",
       "\n",
       "   Your personal information : write to user defined dictionary (S)  \n",
       "0                                                  0                 \n",
       "1                                                  0                 \n",
       "2                                                  0                 \n",
       "\n",
       "[3 rows x 183 columns]"
      ]
     },
     "execution_count": 7,
     "metadata": {},
     "output_type": "execute_result"
    }
   ],
   "source": [
    "df.head(n=3)"
   ]
  },
  {
   "cell_type": "markdown",
   "metadata": {},
   "source": [
    "### Part B: Convert each app into a \"document\"\n",
    "\n",
    "The code below does the following:\n",
    "\n",
    "   * Filter out all the columns except the permission columns.\n",
    "   * Convert this dataframe into a numpy matrix.\n",
    "\n",
    "There are thus 180295 apps (documents) and 173 permissions (words).\n",
    "\n",
    "   - `X` is the \"document\" or \"word-frequency\" matrix.\n",
    "   - `permission_columns` contains the words ordered by their column index in X.\n",
    "   - `app_names` contains the application names ordered by their row index in X.\n",
    "   - `app_ratings` contains the *number* of application ratings (not the ratings themselves)."
   ]
  },
  {
   "cell_type": "code",
   "execution_count": 8,
   "metadata": {
    "ExecuteTime": {
     "end_time": "2019-03-26T17:51:33.294131Z",
     "start_time": "2019-03-26T17:51:33.027315Z"
    }
   },
   "outputs": [
    {
     "name": "stderr",
     "output_type": "stream",
     "text": [
      "/Users/a/anaconda3/lib/python3.6/site-packages/ipykernel_launcher.py:5: FutureWarning: Method .as_matrix will be removed in a future version. Use .values instead.\n",
      "  \"\"\"\n"
     ]
    }
   ],
   "source": [
    "permission_columns = list(df.columns[10:])\n",
    "app_names = list(df[\"App\"])\n",
    "app_ratings = np.array(df[\"Number of ratings\"])\n",
    "df_perms = df[permission_columns]\n",
    "X = df_perms.as_matrix()\n",
    "#del df # uncomment to free up RAM\n",
    "#del df_perms # uncomment to free up RAM"
   ]
  },
  {
   "cell_type": "markdown",
   "metadata": {},
   "source": [
    "### Part C: Downweight \"stop-words\"\n",
    "There are some permissions requested by almost all applications (like \"INTERNET\"), they are similar to stop-words (\"the\", \"and\", etc.) in natural language. We can downweight them by TF-IDF normalization.\n",
    "\n",
    "   * Use the `TfidfTransformer` class in `scikit-learn` to transform X."
   ]
  },
  {
   "cell_type": "code",
   "execution_count": 10,
   "metadata": {
    "ExecuteTime": {
     "end_time": "2019-03-26T17:51:48.838761Z",
     "start_time": "2019-03-26T17:51:47.583690Z"
    }
   },
   "outputs": [],
   "source": [
    "from sklearn.feature_extraction.text import TfidfTransformer\n",
    "tf_idf = TfidfTransformer().fit_transform(X)"
   ]
  },
  {
   "cell_type": "markdown",
   "metadata": {},
   "source": [
    "### Part D: Discover 10 \"topics\"\n",
    "   * Use the `LatentDirichletAllocation` class in `scikit-learn` to fit 10 topics to the data.\n",
    "   * Use 10 max iterations, set `n_jobs=-1` to use all cores on your machine (if it helps).\n",
    "   * Feel free to understand and play around with other parameters.\n",
    "   * This may take around 3 minutes to run."
   ]
  },
  {
   "cell_type": "code",
   "execution_count": 11,
   "metadata": {
    "ExecuteTime": {
     "end_time": "2019-03-26T17:54:35.020139Z",
     "start_time": "2019-03-26T17:51:48.842343Z"
    }
   },
   "outputs": [
    {
     "name": "stdout",
     "output_type": "stream",
     "text": [
      "CPU times: user 11 s, sys: 859 ms, total: 11.9 s\n",
      "Wall time: 2min 46s\n"
     ]
    }
   ],
   "source": [
    "%%time\n",
    "from sklearn.decomposition import LatentDirichletAllocation\n",
    "lda = LatentDirichletAllocation(n_components=10, max_iter=10, n_jobs=-1)\n",
    "lda.fit(tf_idf)"
   ]
  },
  {
   "cell_type": "markdown",
   "metadata": {},
   "source": [
    "Now each app can be viewed as a distribution over these 10 topics, and each topic is a distribution over all the permissions in the data."
   ]
  },
  {
   "cell_type": "markdown",
   "metadata": {},
   "source": [
    "### Part E: List the top 10 \"words\" in each topic\n",
    "Do any of the topics correspond to meaningful app \"purposes\"? List the ones you find meaningful below:\n",
    "\n",
    "   * Topic #i: \"your interpretation\""
   ]
  },
  {
   "cell_type": "code",
   "execution_count": 14,
   "metadata": {
    "ExecuteTime": {
     "end_time": "2019-03-26T17:58:20.568604Z",
     "start_time": "2019-03-26T17:58:20.557277Z"
    }
   },
   "outputs": [
    {
     "name": "stdout",
     "output_type": "stream",
     "text": [
      "Topic #0: \n",
      "\tNetwork communication : full Internet access (D)\n",
      "\tNetwork communication : view network state (S)\n",
      "\tDefault : discover known accounts (S)\n",
      "\tDefault : act as an account authenticator (S)\n",
      "\tYour messages : write instant messages (D)\n",
      "\tYour messages : read instant messages (D)\n",
      "\tHardware controls : control vibrator (S)\n",
      "\tServices that cost you money : directly call phone numbers (D)\n",
      "\tYour accounts : use the authentication credentials of an account (D)\n",
      "\tYour accounts : discover known accounts (S)\n",
      "\n",
      "Topic #1: \n",
      "\tStorage : modify/delete USB storage contents modify/delete SD card contents (D)\n",
      "\tNetwork communication : full Internet access (D)\n",
      "\tNetwork communication : view network state (S)\n",
      "\tNetwork communication : view Wi-Fi state (S)\n",
      "\tPhone calls : read phone state and identity (D)\n",
      "\tHardware controls : control vibrator (S)\n",
      "\tSystem tools : change Wi-Fi state (D)\n",
      "\tYour accounts : Google Finance (D)\n",
      "\tDefault : write instant messages (S)\n",
      "\tDefault : read instant messages (S)\n",
      "\n",
      "Topic #2: \n",
      "\tSystem tools : set wallpaper (S)\n",
      "\tNetwork communication : full Internet access (D)\n",
      "\tNetwork communication : view network state (S)\n",
      "\tYour personal information : read contact data (D)\n",
      "\tStorage : modify/delete USB storage contents modify/delete SD card contents (D)\n",
      "\tPhone calls : read phone state and identity (D)\n",
      "\tNetwork communication : view Wi-Fi state (S)\n",
      "\tSystem tools : change your UI settings (D)\n",
      "\tYour personal information : read sensitive log data (D)\n",
      "\tYour personal information : write contact data (D)\n",
      "\n",
      "Topic #3: \n",
      "\tSystem tools : prevent device from sleeping (D)\n",
      "\tHardware controls : take pictures and videos (D)\n",
      "\tStorage : modify/delete USB storage contents modify/delete SD card contents (D)\n",
      "\tNetwork communication : full Internet access (D)\n",
      "\tNetwork communication : view network state (S)\n",
      "\tPhone calls : read phone state and identity (D)\n",
      "\tHardware controls : control vibrator (S)\n",
      "\tHardware controls : control flashlight (S)\n",
      "\tDefault : change screen orientation (S)\n",
      "\tDefault : delete other applications' caches (S)\n",
      "\n",
      "Topic #4: \n",
      "\tYour location : coarse (network-based) location (D)\n",
      "\tYour location : fine (GPS) location (D)\n",
      "\tNetwork communication : full Internet access (D)\n",
      "\tNetwork communication : view network state (S)\n",
      "\tPhone calls : read phone state and identity (D)\n",
      "\tStorage : modify/delete USB storage contents modify/delete SD card contents (D)\n",
      "\tYour location : access extra location provider commands (S)\n",
      "\tHardware controls : take pictures and videos (D)\n",
      "\tYour location : mock location sources for testing (D)\n",
      "\tHardware controls : control vibrator (S)\n",
      "\n",
      "Topic #5: \n",
      "\tHardware controls : record audio (D)\n",
      "\tSystem tools : modify global system settings (D)\n",
      "\tHardware controls : change your audio settings (D)\n",
      "\tStorage : modify/delete USB storage contents modify/delete SD card contents (D)\n",
      "\tNetwork communication : full Internet access (D)\n",
      "\tSystem tools : prevent device from sleeping (D)\n",
      "\tNetwork communication : view network state (S)\n",
      "\tHardware controls : control vibrator (S)\n",
      "\tSystem tools : set wallpaper size hints (S)\n",
      "\tPhone calls : read phone state and identity (D)\n",
      "\n",
      "Topic #6: \n",
      "\tServices that cost you money : directly call phone numbers (D)\n",
      "\tServices that cost you money : send SMS messages (D)\n",
      "\tYour personal information : read contact data (D)\n",
      "\tYour location : fine (GPS) location (D)\n",
      "\tNetwork communication : full Internet access (D)\n",
      "\tPhone calls : read phone state and identity (D)\n",
      "\tYour messages : receive SMS (D)\n",
      "\tYour personal information : read calendar events (D)\n",
      "\tYour personal information : add or modify calendar events and send email to guests (D)\n",
      "\tNetwork communication : view network state (S)\n",
      "\n",
      "Topic #7: \n",
      "\tPhone calls : read phone state and identity (D)\n",
      "\tNetwork communication : view network state (S)\n",
      "\tNetwork communication : full Internet access (D)\n",
      "\tSystem tools : retrieve running applications (D)\n",
      "\tSystem tools : mount and unmount filesystems (D)\n",
      "\tNetwork communication : receive data from Internet (S)\n",
      "\tStorage : modify/delete USB storage contents modify/delete SD card contents (D)\n",
      "\tYour personal information : read Browser's history and bookmarks (D)\n",
      "\tYour personal information : write Browser's history and bookmarks (D)\n",
      "\tHardware controls : control vibrator (S)\n",
      "\n",
      "Topic #8: \n",
      "\tNetwork communication : view Wi-Fi state (S)\n",
      "\tSystem tools : kill background processes (S)\n",
      "\tSystem tools : change Wi-Fi state (D)\n",
      "\tSystem tools : disable keylock (D)\n",
      "\tSystem tools : prevent device from sleeping (D)\n",
      "\tNetwork communication : view network state (S)\n",
      "\tNetwork communication : create Bluetooth connections (D)\n",
      "\tNetwork communication : full Internet access (D)\n",
      "\tStorage : modify/delete USB storage contents modify/delete SD card contents (D)\n",
      "\tPhone calls : read phone state and identity (D)\n",
      "\n",
      "Topic #9: \n",
      "\tHardware controls : control vibrator (S)\n",
      "\tSystem tools : automatically start at boot (S)\n",
      "\tNetwork communication : full Internet access (D)\n",
      "\tPhone calls : read phone state and identity (D)\n",
      "\tNetwork communication : view network state (S)\n",
      "\tSystem tools : prevent device from sleeping (D)\n",
      "\tYour accounts : discover known accounts (S)\n",
      "\tYour location : fine (GPS) location (D)\n",
      "\tYour location : coarse (network-based) location (D)\n",
      "\tStorage : modify/delete USB storage contents modify/delete SD card contents (D)\n",
      "\n"
     ]
    }
   ],
   "source": [
    "#Print top words associated with each topic\n",
    "n_top_words = 10\n",
    "features = df_perms.columns\n",
    "for topic_idx, topic in enumerate(lda.components_):\n",
    "    message = \"Topic #%d: \" % topic_idx\n",
    "    message += \"\\n\\t\"\n",
    "    message += \"\\n\\t\".join([features[i]\n",
    "                            for i in topic.argsort()[:-n_top_words-1:-1]])\n",
    "    print(message)\n",
    "    print() "
   ]
  },
  {
   "cell_type": "markdown",
   "metadata": {},
   "source": [
    "- Topic #0: The first topic is related with apps about system settings.\n",
    "- Topic #2: It's related with apps of commnunicating."
   ]
  },
  {
   "cell_type": "markdown",
   "metadata": {},
   "source": [
    "### Part F: For each topic, list the top 3 apps with at least 100000 ratings having the highest probability assigned to that topic\n",
    "\n",
    "   - This further helps us understand what the topics actually mean.\n",
    "   - However, the data is noisy and this exercise may result in listing a bunch of obscure apps.\n",
    "   - Hence, filtering out all apps with less than 100000 ratings may help."
   ]
  },
  {
   "cell_type": "code",
   "execution_count": 15,
   "metadata": {
    "ExecuteTime": {
     "end_time": "2019-03-26T17:58:36.837894Z",
     "start_time": "2019-03-26T17:58:23.853084Z"
    }
   },
   "outputs": [
    {
     "name": "stdout",
     "output_type": "stream",
     "text": [
      "Topic #0: \n",
      "\tWorld Newspapers\tHandcent SMS\tBubble Blast 2\n",
      "\n",
      "Topic #1: \n",
      "\tGoogle Translate\tParadise Island\tLauncherPro\n",
      "\n",
      "Topic #2: \n",
      "\tTwitter\tRestaurant Story™\tPandora® internet radio\n",
      "\n",
      "Topic #3: \n",
      "\tGO Launcher EX\tOpera Mini web browser\tWords With Friends Free\n",
      "\n",
      "Topic #4: \n",
      "\tGasBuddy\tAntivirus Free\tMy Country\n",
      "\n",
      "Topic #5: \n",
      "\tGO Launcher EX\tMP3 Music Download Pro\tTalking Tom Cat Free\n",
      "\n",
      "Topic #6: \n",
      "\tMP3 Music Download Pro\tBrightest Flashlight Free™\tWeatherBug\n",
      "\n",
      "Topic #7: \n",
      "\tAdvanced Task Killer\tPandora® internet radio\tBarcode Scanner\n",
      "\n",
      "Topic #8: \n",
      "\tReal BlackJack\tGoogle Maps\tHoroscope\n",
      "\n",
      "Topic #9: \n",
      "\tWords With Friends Free\tchompSMS\tGoogle Translate\n",
      "\n"
     ]
    }
   ],
   "source": [
    "topic_distribution = lda.transform(tf_idf)\n",
    "for i in range(10):\n",
    "    idx = np.argsort(topic_distribution[:,i])\n",
    "    df['order'] = idx\n",
    "    sorted_df = df.sort_values(by=['order'], ascending=False)[['App', 'Number of ratings']]\n",
    "    app_names = sorted_df[sorted_df['Number of ratings']>100000].head(3)['App']\n",
    "    print('Topic #%d: '% i)\n",
    "    for app in app_names:\n",
    "        print('\\t' + app, end = '')\n",
    "    print('\\n')"
   ]
  },
  {
   "cell_type": "markdown",
   "metadata": {},
   "source": [
    "### Part G: Visualize the document-topic proportion matrix in 2-D using t-SNE\n",
    "\n",
    "Does our reduced dimensional space contain any structure? Visualize the documents (in the topic-space) using t-SNE.\n",
    "\n",
    "   * Use `TSNE` from `scikit-learn`.\n",
    "   * Set the angle to 0.99 and init to 'PCA'. Pick any learning rate that gives you a visually pleasing result.\n",
    "   * You may `fit` TSNE to a sample of the data (>1000 documents) instead of the full data.\n",
    "   * Remember to call `fit_transform` to obtain your 2-D data.\n",
    "   * Plot the t-SNE dimensions as a scatterplot.\n",
    "   * Color each point based on its most probable topic. Make sure you include a legend (10 colors).\n",
    "   \n",
    "Clusters in the t-SNE plot indicate groups of apps that have similar topics."
   ]
  },
  {
   "cell_type": "code",
   "execution_count": 48,
   "metadata": {
    "ExecuteTime": {
     "end_time": "2019-02-16T03:36:08.909717Z",
     "start_time": "2019-02-16T03:36:02.285650Z"
    }
   },
   "outputs": [
    {
     "name": "stdout",
     "output_type": "stream",
     "text": [
      "CPU times: user 6.21 s, sys: 69.3 ms, total: 6.28 s\n",
      "Wall time: 6.3 s\n"
     ]
    },
    {
     "data": {
      "image/png": "[encoded data removed]",
      "text/plain": [
       "<Figure size 720x720 with 2 Axes>"
      ]
     },
     "metadata": {
      "needs_background": "light"
     },
     "output_type": "display_data"
    }
   ],
   "source": [
    "%%time\n",
    "from sklearn.manifold  import TSNE\n",
    "tsne = TSNE(n_components=2,learning_rate=50, angle=.99, init='pca')\n",
    "\n",
    "# fit_transform\n",
    "tsne_vectors_2d = tsne.fit_transform(topic_distribution[:2000])\n",
    "\n",
    "# label\n",
    "most_topic = np.zeros(2000)\n",
    "for app_idx in range(2000):\n",
    "    sort_indices = np.argsort(topic_distribution[app_idx])[::-1]\n",
    "    most_topic[app_idx] = sort_indices[0]\n",
    "\n",
    "# plot\n",
    "plt.figure(figsize=(10,10))\n",
    "plt.scatter(tsne_vectors_2d[:, 0], tsne_vectors_2d[:, 1], c=[i for i in most_topic], cmap='Paired')\n",
    "plt.colorbar()"
   ]
  }
 ],
 "metadata": {
  "kernelspec": {
   "display_name": "Python 3",
   "language": "python",
   "name": "python3"
  },
  "language_info": {
   "codemirror_mode": {
    "name": "ipython",
    "version": 3
   },
   "file_extension": ".py",
   "mimetype": "text/x-python",
   "name": "python",
   "nbconvert_exporter": "python",
   "pygments_lexer": "ipython3",
   "version": "3.6.8"
  },
  "notify_time": "5"
 },
 "nbformat": 4,
 "nbformat_minor": 2
}
